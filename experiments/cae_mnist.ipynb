{
 "cells": [
  {
   "cell_type": "code",
   "execution_count": 1,
   "metadata": {},
   "outputs": [],
   "source": [
    "import time\n",
    "import numpy as np\n",
    "import matplotlib.pyplot as plt\n",
    "import torch\n",
    "import torchvision\n",
    "from torch import nn\n",
    "import torch.nn.functional as F\n",
    "import torch.distributions as dists\n",
    "from torch.utils.data import DataLoader\n",
    "from torch.utils.data import Dataset\n",
    "from torchvision import transforms\n",
    "from torchvision.datasets import MNIST\n",
    "\n",
    "%matplotlib inline\n",
    "%reload_ext autoreload\n",
    "%autoreload 2\n",
    "\n",
    "from models import AE_MNIST\n",
    "import utils as ut"
   ]
  },
  {
   "cell_type": "code",
   "execution_count": 2,
   "metadata": {},
   "outputs": [],
   "source": [
    "# transforms\n",
    "lst_trans = []\n",
    "\n",
    "deg = 45\n",
    "distortion_scale = 0.5\n",
    "p = 0.5\n",
    "\n",
    "lst_trans.append(\n",
    "    transforms.Compose([\n",
    "        torchvision.transforms.RandomRotation(degrees=(-deg, deg)),\n",
    "        torchvision.transforms.RandomPerspective(distortion_scale, p),\n",
    "        transforms.ToTensor(),\n",
    "    ]))\n",
    "\n",
    "lst_trans.append(\n",
    "    transforms.Compose([\n",
    "        torchvision.transforms.RandomRotation(degrees=(-deg, deg)),\n",
    "        torchvision.transforms.RandomPerspective(distortion_scale, p),\n",
    "        transforms.ToTensor(),\n",
    "    ]))\n",
    "\n",
    "transform = ut.Transform(lst_trans)\n",
    "\n",
    "# dataset\n",
    "dataset_train = MNIST(root='./data', train=True, transform=transform)\n",
    "dataset_test = MNIST(root='./data', train=False, transform=transform)\n",
    "\n",
    "# loader\n",
    "batch_size = 32\n",
    "loader_train = DataLoader(dataset_train, batch_size=batch_size, shuffle=True)\n",
    "loader_test = DataLoader(dataset_test, batch_size=batch_size, shuffle=True)\n",
    "\n",
    "# device\n",
    "device = torch.device(f\"cuda:{0}\" if torch.cuda.is_available() else \"cpu\")\n",
    "\n",
    "# model\n",
    "model = AE_MNIST(2).to(device)\n",
    "\n",
    "# optim\n",
    "optimizer = torch.optim.Adam(model.parameters(), \n",
    "                             lr=1e-3, \n",
    "                             weight_decay=5e-4)\n",
    "\n",
    "# estimation\n",
    "loss = ut.SimCLR()"
   ]
  },
  {
   "cell_type": "code",
   "execution_count": 3,
   "metadata": {},
   "outputs": [
    {
     "data": {
      "image/png": "[encoded data removed]",
      "text/plain": [
       "<Figure size 432x288 with 2 Axes>"
      ]
     },
     "metadata": {
      "needs_background": "light"
     },
     "output_type": "display_data"
    }
   ],
   "source": [
    "# plot loader\n",
    "fig, ax = plt.subplots(1, 2)\n",
    "for i, (lst_x, _) in enumerate(loader_test):\n",
    "    x = lst_x[0]\n",
    "    ax[0].imshow(x[0, 0])\n",
    "    x = lst_x[1]\n",
    "    ax[1].imshow(x[0, 0])\n",
    "    break"
   ]
  },
  {
   "cell_type": "code",
   "execution_count": null,
   "metadata": {},
   "outputs": [
    {
     "name": "stdout",
     "output_type": "stream",
     "text": [
      "epoch: 1 train:  3.18385 test:  2.23535\n",
      "epoch: 2 train:  2.68681 test:  2.16679\n",
      "epoch: 3 train:  2.59802 test:  1.66996\n",
      "epoch: 4 train:  2.52487 test:  1.67667\n",
      "epoch: 5 train:  2.48301 test:  1.72675\n",
      "epoch: 6 train:  2.44271 test:  2.12911\n",
      "epoch: 7 train:  2.42777 test:  1.55919\n",
      "epoch: 8 train:  2.39856 test:  1.76986\n",
      "epoch: 9 train:  2.38344 test:  1.66605\n",
      "epoch: 10 train:  2.37339 test:  1.73366\n",
      "epoch: 11 train:  2.36205 test:  1.68533\n",
      "epoch: 12 train:  2.35379 test:  2.27514\n",
      "epoch: 13 train:  2.34507 test:  1.99616\n",
      "epoch: 14 train:  2.32500 test:  2.16329\n",
      "epoch: 15 train:  2.32124 test:  1.77169\n",
      "epoch: 16 train:  2.31294 test:  1.59388\n",
      "epoch: 17 train:  2.30419 test:  1.67923\n",
      "epoch: 18 train:  2.30237 test:  1.69470\n",
      "epoch: 19 train:  2.29251 test:  1.47889\n",
      "epoch: 20 train:  2.29383 test:  2.00643\n",
      "epoch: 21 train:  2.27285 test:  1.28473\n",
      "epoch: 22 train:  2.27706 test:  2.03859\n",
      "epoch: 23 train:  2.27219 test:  1.25653\n"
     ]
    }
   ],
   "source": [
    "log = {\n",
    "    'loss_train': [],\n",
    "    'loss_test': [],\n",
    "}\n",
    "\n",
    "for epoch in range(200):\n",
    "    # train\n",
    "    lst_l = []\n",
    "    for lst_x, _ in loader_train:\n",
    "        lst_z = []\n",
    "        for x in lst_x:\n",
    "            x = x.to(device)\n",
    "            lst_z.append(model.encode(x))\n",
    "        l = loss(lst_z)\n",
    "        optimizer.zero_grad()\n",
    "        l.backward(retain_graph=True)\n",
    "        optimizer.step()\n",
    "        lst_l.append(l.item())\n",
    "    log['loss_train'].append(np.mean(lst_l))\n",
    "    # test\n",
    "    lst_l = []\n",
    "    with torch.no_grad():\n",
    "        for lst_x, _ in loader_test:\n",
    "            lst_z = []\n",
    "            for x in lst_x:\n",
    "                x = x.to(device)\n",
    "                lst_z.append(model.encode(x))\n",
    "            l = loss(lst_z)\n",
    "        lst_l.append(l.item())\n",
    "    log['loss_test'].append(np.mean(lst_l))\n",
    "    # log\n",
    "    print(\n",
    "        f\"epoch: {epoch+1}\",\n",
    "        f\"train: {log['loss_train'][-1]: .5f}\",\n",
    "        f\"test: {log['loss_test'][-1]: .5f}\",\n",
    "    )"
   ]
  },
  {
   "cell_type": "code",
   "execution_count": null,
   "metadata": {},
   "outputs": [],
   "source": [
    "# plot encoder\n",
    "\n",
    "# dataset\n",
    "transform = transforms.ToTensor()\n",
    "dataset = MNIST(root='./data', train=False, transform=transform)\n",
    "\n",
    "# loader\n",
    "loader = DataLoader(dataset, batch_size=batch_size, shuffle=True)\n",
    "\n",
    "plt.figure(figsize=(10, 10))\n",
    "for x, y in loader:\n",
    "    x = x.to(device)\n",
    "    z = model.encode(x)\n",
    "    z = z.cpu().detach()\n",
    "    #z = z/z.norm(1)\n",
    "    y = y.cpu()\n",
    "    for label in range(10):\n",
    "        idx = y == label\n",
    "        plt.scatter(z[idx,0], z[idx,1])\n",
    "    plt.legend(np.arange(10, dtype=np.int32))\n",
    "plt.show()"
   ]
  },
  {
   "cell_type": "code",
   "execution_count": null,
   "metadata": {},
   "outputs": [],
   "source": []
  }
 ],
 "metadata": {
  "kernelspec": {
   "display_name": "Python 3",
   "language": "python",
   "name": "python3"
  },
  "language_info": {
   "codemirror_mode": {
    "name": "ipython",
    "version": 3
   },
   "file_extension": ".py",
   "mimetype": "text/x-python",
   "name": "python",
   "nbconvert_exporter": "python",
   "pygments_lexer": "ipython3",
   "version": "3.7.4"
  }
 },
 "nbformat": 4,
 "nbformat_minor": 4
}
